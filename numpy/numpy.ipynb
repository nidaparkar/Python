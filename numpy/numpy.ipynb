{
  "nbformat": 4,
  "nbformat_minor": 0,
  "metadata": {
    "colab": {
      "name": "new_numpy.ipynb",
      "provenance": [],
      "collapsed_sections": []
    },
    "kernelspec": {
      "name": "python3",
      "display_name": "Python 3"
    }
  },
  "cells": [
    {
      "cell_type": "markdown",
      "metadata": {
        "id": "h-Gu5tDUm7oE"
      },
      "source": [
        "Check Attributes of the array In this task, you will check out the important attributes for a NumPy array Make a NumPy array also named array which consists of the first 10 natural numbers using the np.arange(1, 11) command (you will learn how to create such forms later on during the course). Check out its dimension and save it as dim. Reshape the above array into a (5, 2) array using the .reshape(5,2) on the previous array. You have to create a new array altogether for this operation so do not forget to assign to a new variable reshaped. Check out the new dimension and save it as new_dim. Print out dim and new_dim."
      ]
    },
    {
      "cell_type": "code",
      "metadata": {
        "id": "zEoxc0gJnBp1",
        "outputId": "ecc18638-fa0a-403d-8a9a-c3a2d4151b5a",
        "colab": {
          "base_uri": "https://localhost:8080/",
          "height": 153
        }
      },
      "source": [
        "import numpy as np\n",
        "a = np.arange(1,11)      \n",
        "print(a)\n",
        "dim= a.ndim\n",
        "print('The dimensions of array a is ',dim)\n",
        "reshaped=a.reshape(5,2)\n",
        "print(reshaped)\n",
        "new_dim= reshaped.ndim\n",
        "print('The dimensions of reshaped array  is ',new_dim)"
      ],
      "execution_count": null,
      "outputs": [
        {
          "output_type": "stream",
          "text": [
            "[ 1  2  3  4  5  6  7  8  9 10]\n",
            "The dimensions of array a is  1\n",
            "[[ 1  2]\n",
            " [ 3  4]\n",
            " [ 5  6]\n",
            " [ 7  8]\n",
            " [ 9 10]]\n",
            "The dimensions of reshaped array  is  2\n"
          ],
          "name": "stdout"
        }
      ]
    },
    {
      "cell_type": "markdown",
      "metadata": {
        "id": "DW53tGAinUg9"
      },
      "source": [
        "Quiz: Arrays in NumPy\n",
        "\n",
        "1.Are all the elements inside a NumPy ndarray of the same data type? YES\n",
        "\n",
        "NO\n",
        "\n",
        "2.By which method/attribute can you check the shape of NumPy array?\n",
        "\n",
        "shape\n",
        "\n",
        "ndim\n",
        "\n",
        "3.Mathematically, what does the size attribute of NumPy ndarray equals to?\n",
        "\n",
        "Product of the elements of shape attribute\n",
        "\n",
        "Length of the NumPy ndarray\n",
        "\n",
        "4.Which attribute is used to get the number of bytes in each element of the array? \n",
        "size\n",
        "itemsize\n"
      ]
    },
    {
      "cell_type": "markdown",
      "metadata": {
        "id": "uAqAvsBTn27q"
      },
      "source": [
        "Answers:\n",
        "1-yes\n",
        "2-shape\n",
        "3-(product element of the shape attribute)\n",
        "4- itemsize\n"
      ]
    },
    {
      "cell_type": "markdown",
      "metadata": {
        "id": "I0bobRwUqs7Y"
      },
      "source": [
        "Create your own array\n",
        "In this task, you will practice creating new arrays of different types\n",
        " \n",
        "Create an array out a 4x4 identity matrix with dtype float32 and save it in a variable named array\n",
        "Print the array\n"
      ]
    },
    {
      "cell_type": "code",
      "metadata": {
        "id": "AzMYee85qvQO",
        "outputId": "3b4aac94-c912-4e06-f3d4-94e60e62ac26",
        "colab": {
          "base_uri": "https://localhost:8080/",
          "height": 85
        }
      },
      "source": [
        "import numpy as np\n",
        "array=np.eye(4,dtype='float32')\n",
        "print(array)"
      ],
      "execution_count": null,
      "outputs": [
        {
          "output_type": "stream",
          "text": [
            "[[1. 0. 0. 0.]\n",
            " [0. 1. 0. 0.]\n",
            " [0. 0. 1. 0.]\n",
            " [0. 0. 0. 1.]]\n"
          ],
          "name": "stdout"
        }
      ]
    },
    {
      "cell_type": "markdown",
      "metadata": {
        "id": "HC8wlH0R2pOs"
      },
      "source": [
        "Store marks and ID's as array In this task, you are going to store the marks and IDs of three students as NumPy arrays.\n",
        "The marks are [20, 30, 40] and IDs are [0,2,4]. Store array for marks in a variable marks and the one for IDs in another variable ids. Display both marks and ids.\n"
      ]
    },
    {
      "cell_type": "code",
      "metadata": {
        "id": "YOlwGAY52shr",
        "outputId": "ba65b54b-3727-4047-b1bb-1b9644b85061",
        "colab": {
          "base_uri": "https://localhost:8080/",
          "height": 51
        }
      },
      "source": [
        "marks =np.array([20,30,40])\n",
        "ids=np.array([0,2,4])\n",
        "print(marks)\n",
        "print(ids)"
      ],
      "execution_count": null,
      "outputs": [
        {
          "output_type": "stream",
          "text": [
            "[20 30 40]\n",
            "[0 2 4]\n"
          ],
          "name": "stdout"
        }
      ]
    },
    {
      "cell_type": "markdown",
      "metadata": {
        "id": "UkFpO4HQ3xSy"
      },
      "source": [
        "Quiz:Creating Arrays with Numpy\n",
        "\n",
        "1.What does np.arange(5) do?\n",
        "Creates an array from 0-4\n",
        "Creates an array from 1-5\n",
        "2.Can you iterate over a NumPy ndarray using a for loop in the same manner as you do with Python lists? \n",
        "YES\n",
        "NO\n",
        "================================================================ \n",
        "3.What does the following code snippet display?\n",
        "import numpy as np\n",
        " print(np.eye(5))\n",
        "  5x5 Identity matrix\n",
        "2x2 Identity matrix\n",
        "3x3 Identity matrix\n",
        "5x5 matrix consisting of 1s\n",
        "=====================================================\n",
        " 4.What is the output of the following code snippet?\n",
        "import numpy as np \n",
        "a = np.arange(9).reshape(3,3)\n",
        " print(a[1,1]) \n",
        "2\n",
        "3\n",
        "4\n",
        "5\n"
      ]
    },
    {
      "cell_type": "markdown",
      "metadata": {
        "id": "nmOB8EI049FZ"
      },
      "source": [
        "Answers:\n",
        "2-yes"
      ]
    },
    {
      "cell_type": "code",
      "metadata": {
        "id": "9McYTzMV5a8p",
        "outputId": "9f14c5e5-3410-4bfc-c001-b16c54453ba5",
        "colab": {
          "base_uri": "https://localhost:8080/",
          "height": 34
        }
      },
      "source": [
        " np.arange(5)"
      ],
      "execution_count": null,
      "outputs": [
        {
          "output_type": "execute_result",
          "data": {
            "text/plain": [
              "array([0, 1, 2, 3, 4])"
            ]
          },
          "metadata": {
            "tags": []
          },
          "execution_count": 6
        }
      ]
    },
    {
      "cell_type": "code",
      "metadata": {
        "id": "l4VtugTu5onP",
        "outputId": "801e8f23-38ce-41e8-ab08-eb7c526d4f08",
        "colab": {
          "base_uri": "https://localhost:8080/",
          "height": 102
        }
      },
      "source": [
        "\n",
        "print(np.eye(5))"
      ],
      "execution_count": null,
      "outputs": [
        {
          "output_type": "stream",
          "text": [
            "[[1. 0. 0. 0. 0.]\n",
            " [0. 1. 0. 0. 0.]\n",
            " [0. 0. 1. 0. 0.]\n",
            " [0. 0. 0. 1. 0.]\n",
            " [0. 0. 0. 0. 1.]]\n"
          ],
          "name": "stdout"
        }
      ]
    },
    {
      "cell_type": "code",
      "metadata": {
        "id": "Md0xAgp66XZh",
        "outputId": "c30fb903-71a5-4105-9b93-c9855ab5b7f7",
        "colab": {
          "base_uri": "https://localhost:8080/",
          "height": 85
        }
      },
      "source": [
        "a = np.arange(9).reshape(3,3)\n",
        "print(a)\n",
        "print(a[1,1]) "
      ],
      "execution_count": null,
      "outputs": [
        {
          "output_type": "stream",
          "text": [
            "[[0 1 2]\n",
            " [3 4 5]\n",
            " [6 7 8]]\n",
            "4\n"
          ],
          "name": "stdout"
        }
      ]
    },
    {
      "cell_type": "markdown",
      "metadata": {
        "id": "7cVyqOD8LWT0"
      },
      "source": [
        "In this task, you will be filtering out complex elements from an array.\n",
        "Create a (4,) array with values 3, 4.5, 3 + 5j and 0 using \"np.array()\". Save it to a variable array Create a boolean condition real to retain only a real number using .isreal(array). (Note: .isreal(array) returns a Boolean value which is True if the number inside the array is a real number and False otherwise) Now apply this Boolean condition i.e. real on array using Boolean indexing (explained in the topic) by array[real] and store it in variable real_array. Similarly, create a Boolean condition imag to retain only complex numbers which you can do it using .iscomplex(array). This time create an array imag_array which contains only complex numbers using the Boolean condition array[imag]\n"
      ]
    },
    {
      "cell_type": "code",
      "metadata": {
        "id": "6LagKm-2LYYc",
        "outputId": "e61a1d90-a953-4868-f0c6-8de67e744004",
        "colab": {
          "base_uri": "https://localhost:8080/",
          "height": 85
        }
      },
      "source": [
        "import numpy as np\n",
        "a = np.array([3, 4.5, 3 + 5j,0])\n",
        "real=np.isreal(a)\n",
        "print(real)\n",
        "real_array=a[real]\n",
        "print(real_array)\n",
        "imag=np.iscomplex(a)\n",
        "print(imag)\n",
        "imag_array=a[imag]\n",
        "print(imag_array)"
      ],
      "execution_count": null,
      "outputs": [
        {
          "output_type": "stream",
          "text": [
            "[ True  True False  True]\n",
            "[3. +0.j 4.5+0.j 0. +0.j]\n",
            "[False False  True False]\n",
            "[3.+5.j]\n"
          ],
          "name": "stdout"
        }
      ]
    },
    {
      "cell_type": "markdown",
      "metadata": {
        "id": "ELC56QKgY29F"
      },
      "source": [
        "Buy/ Sell for maximum profit In this task, you will combine vectorization and aggregation methods to solve a BUY-SELL problem. You have a range of prices at 3 intervals of a day for 2 consecutive days and you can buy and sell only once. First, you will buy and then sell for the maximum profit.\n",
        "Initialize an array prices = [[40, 35, 20], [21, 48, 70]]. Here, 40 is the market price during the first interval of the first day and 35 during the second interval and so on. Similarly, 21 is the price during the first half of the second day and 48 during the second half Flatten the array with the .flatten() method. This method will convert your 2-D array into a 1-D array and store it in variable prices. Find the minimum over the flattened array using np.min(), this will be your buying_price Also find the index of buying price by first converting the array into a list using list(array) and then use the .index(buying_price) attribute to pick the index of the buying price and store it in a variable index Create a new subset starting from the index (created in the previous step) till the end of the array and find the maximum value using np.max() in it. This will be your selling_price Find the difference between buying and selling price and save the same in variable profit\n"
      ]
    },
    {
      "cell_type": "code",
      "metadata": {
        "id": "lchk2KgwY608",
        "outputId": "daf95cd7-9dbc-46c7-8659-7c7e82bb945d",
        "colab": {
          "base_uri": "https://localhost:8080/",
          "height": 199
        }
      },
      "source": [
        "import numpy as np\n",
        "prices = np.array([[40, 35, 20], [21, 48, 70]])\n",
        "print(\"2d array\",prices)\n",
        "p=prices.flatten()\n",
        "print(\"flattened array\",p)\n",
        "buying_price=prices.min()\n",
        "print(\"buying price(min value)\",buying_price)\n",
        "l=list(p)\n",
        "print(\"array converted to list\",list)\n",
        "index=l.index(buying_price)\n",
        "print(\"index of min valu\",index)\n",
        "l1=l[index:]\n",
        "print(l1)\n",
        "a=np.array(l1)\n",
        "print(a)\n",
        "selling_price=a.max()\n",
        "print(\"selling price max value\",selling_price)\n",
        "profit=selling_price-buying_price\n",
        "print(\"profit\",profit)\n"
      ],
      "execution_count": null,
      "outputs": [
        {
          "output_type": "stream",
          "text": [
            "2d array [[40 35 20]\n",
            " [21 48 70]]\n",
            "flattened array [40 35 20 21 48 70]\n",
            "buying price(min value) 20\n",
            "array converted to list <class 'list'>\n",
            "index of min valu 2\n",
            "[20, 21, 48, 70]\n",
            "[20 21 48 70]\n",
            "selling price max value 70\n",
            "profit 50\n"
          ],
          "name": "stdout"
        }
      ]
    },
    {
      "cell_type": "markdown",
      "metadata": {
        "id": "Ic0irCw0O7Tq"
      },
      "source": [
        "Create a random 5x5 matrix with the help of np.random.random((5,5)) and save it as z Calculate the minimum and maximum value with the help of .min() and .max() methods respectively for the 5x5 array. Save them as zmax and zmin for maximum and minimum respectively Now using the power of broadcasting subtract the minimum value from each element and divide by their range (maximum-minimum) to normalize. Save this normalized as z_norm Print the standardized array\n"
      ]
    },
    {
      "cell_type": "code",
      "metadata": {
        "id": "8A8ACf1MT3CC",
        "outputId": "ea56751f-6081-4f4e-a73a-5cd2ce19e631",
        "colab": {
          "base_uri": "https://localhost:8080/",
          "height": 217
        }
      },
      "source": [
        "import numpy as np\n",
        "np.random.seed(21)\n",
        "z=np.random.random((5,5))\n",
        "print(\"z=\",z)\n",
        "zmax=z.max()#zmax=np.max(z)---another way\n",
        "zmin=z.min()\n",
        "print(zmax,zmin)\n",
        "z_norm=(z-zmin)/(zmax-zmin)\n",
        "print(\"normalised array\",z_norm)\n"
      ],
      "execution_count": null,
      "outputs": [
        {
          "output_type": "stream",
          "text": [
            "z= [[0.04872488 0.28910966 0.72096635 0.02161625 0.20592277]\n",
            " [0.05077326 0.30227189 0.66391029 0.30811439 0.58359128]\n",
            " [0.06957095 0.86740448 0.13324052 0.17812466 0.49592955]\n",
            " [0.86369964 0.75894384 0.97048513 0.75930255 0.38425003]\n",
            " [0.40871833 0.71336043 0.27066977 0.85410287 0.91316397]]\n",
            "0.9704851253491577 0.021616249915949792\n",
            "normalised array [[0.02856942 0.28190767 0.73703555 0.         0.19423813]\n",
            " [0.03072817 0.29577917 0.67690496 0.3019365  0.59225784]\n",
            " [0.05053881 0.89136471 0.1176393  0.16494209 0.49987233]\n",
            " [0.88746023 0.77705951 1.         0.77743756 0.38217481]\n",
            " [0.40796162 0.72901978 0.26247412 0.87734633 0.93959001]]\n"
          ],
          "name": "stdout"
        }
      ]
    },
    {
      "cell_type": "markdown",
      "metadata": {
        "id": "VDGzUJXQm20m"
      },
      "source": [
        "**Quiz: Power of NumPy**\n",
        "\n",
        "1.What gets printed?\n",
        "import numpy as np\n",
        "ary = np.array([1,2,3,5,8])\n",
        "ary = ary + 1\n",
        "print (ary[1]) \n",
        "1\n",
        "2\n",
        "3\n",
        "5\n"
      ]
    },
    {
      "cell_type": "code",
      "metadata": {
        "id": "6GzPR79YnBrI",
        "outputId": "a6ab7f61-e8a2-4855-c02f-63b252255c6b",
        "colab": {
          "base_uri": "https://localhost:8080/",
          "height": 54
        }
      },
      "source": [
        "import numpy as np\n",
        "ary = np.array([1,2,3,5,8])\n",
        "ary = ary + 1\n",
        "print(\"ary+1\",ary)\n",
        "print (ary[1]) "
      ],
      "execution_count": null,
      "outputs": [
        {
          "output_type": "stream",
          "text": [
            "ary+1 [2 3 4 6 9]\n",
            "3\n"
          ],
          "name": "stdout"
        }
      ]
    },
    {
      "cell_type": "markdown",
      "metadata": {
        "id": "UZg_0jTGng2N"
      },
      "source": [
        "2.Which function returns its argument with a modified shape (array) and which one modifies the array itself?\n",
        "reshape,resize\n",
        "resize,reshape\n",
        "reshape2,resize\n",
        "all of the Mentioned\n",
        "***Ans:***\n",
        "reshape,resize# reshape makes copy, resize alters original array\n"
      ]
    },
    {
      "cell_type": "markdown",
      "metadata": {
        "id": "KKBXEI8RoN1O"
      },
      "source": [
        "3.The property by which NumPy can perform element-wise operation is called:\n",
        "Vectorization\n",
        "Broadcasting\n",
        "***Ans:Vectorization***"
      ]
    },
    {
      "cell_type": "markdown",
      "metadata": {
        "id": "7t10cTKupHy_"
      },
      "source": [
        "4.If you have a NumPy array, in a variable bats, how would you access the data item at the 5th column, 2nd row?\n",
        "bats[2,5]\n",
        "bats(1,4)\n",
        "Bats[1,4] \n",
        "bats[4,1]\n"
      ]
    },
    {
      "cell_type": "code",
      "metadata": {
        "id": "ILpgpUIqpRzc",
        "outputId": "415ca5f1-631a-4a4b-afd5-53dca8e32e71",
        "colab": {
          "base_uri": "https://localhost:8080/",
          "height": 68
        }
      },
      "source": [
        "import numpy as np\n",
        "bats = np.array([[1,2,3,5,8],[10,78,89,76,56]])\n",
        "print(bats)\n",
        "print(bats[1,4])"
      ],
      "execution_count": null,
      "outputs": [
        {
          "output_type": "stream",
          "text": [
            "[[ 1  2  3  5  8]\n",
            " [10 78 89 76 56]]\n",
            "56\n"
          ],
          "name": "stdout"
        }
      ]
    },
    {
      "cell_type": "markdown",
      "metadata": {
        "id": "UB6xolGUtLn3"
      },
      "source": [
        "Well, one way to find out the roots is to first calculate the discriminant and then solve for the roots. Using NumPy's .roots() the method you can calculate it in a single line. Now, this function can solve for any degree polynomial and since you will solve a quadratic equation, this function will take 3 arguments which represent the coefficients of the powers of x.\n",
        "==========================================================\n",
        " Find roots of quadratic equation The quadratic equation that you will be solving is x^2 -4x + 4 = 0x 2 −4x+4=0 Make an array coeff to store the coefficients (1,-4, 4) of the quadratic equation. Pass this array coeff as argument to np.roots() method which will return the roots for the quadratic equation x^2 -4x + 4 = 0x 2 −4x+4=0. Save it as roots Print out roots to see your result\n"
      ]
    },
    {
      "cell_type": "code",
      "metadata": {
        "id": "Cp80J9uitNDk",
        "outputId": "ffc858d3-7146-46cb-9e81-cdd371f7c1dc",
        "colab": {
          "base_uri": "https://localhost:8080/",
          "height": 34
        }
      },
      "source": [
        "import numpy as np\n",
        "coeff=np.array([1,-4, 4])\n",
        "roots=np.roots(coeff)\n",
        "print(roots)\n"
      ],
      "execution_count": null,
      "outputs": [
        {
          "output_type": "stream",
          "text": [
            "[2. 2.]\n"
          ],
          "name": "stdout"
        }
      ]
    },
    {
      "cell_type": "markdown",
      "metadata": {
        "id": "fU5dSKQDvV9t"
      },
      "source": [
        "You will be converting the temperatures [0, 10, 25, 32, 80, 99.99] in Centigrades to Fahrenheit\n",
        "Convert from centigrade to fahrenheit Store the given temperatures in an array centigrade_temps Define a function convert which takes one argument celsius(Centigrade temperature) that achieves the conversion from centigrade to Fahrenheit. The conversion formula is given, the body of convert must return the Fahrenheit temperature Use convert on centigrade_temps to convert Centigrade to Fahrenheit scale and store it as fahrenheit_temps\n"
      ]
    },
    {
      "cell_type": "code",
      "metadata": {
        "id": "s8OF9jvySBZr",
        "outputId": "77ef8715-3ba0-4a4b-e7fd-6abce5482a96",
        "colab": {
          "base_uri": "https://localhost:8080/",
          "height": 54
        }
      },
      "source": [
        "centigrade_temps= [0, 10, 25, 32, 80, 99.99]\n",
        "fahrenheit_temps=[]\n",
        "def convert(celsius):\n",
        "  for i in centigrade_temps:\n",
        "    f = float((i * 1.8) + 32)\n",
        "    fahrenheit_temps.append(f)\n",
        "\n",
        " \n",
        "convert(centigrade_temps) \n",
        "fahrenheit_temps_arr=np.array(fahrenheit_temps) \n",
        "print(fahrenheit_temps)\n",
        "print(fahrenheit_temps_arr)\n"
      ],
      "execution_count": null,
      "outputs": [
        {
          "output_type": "stream",
          "text": [
            "[32.0, 50.0, 77.0, 89.6, 176.0, 211.982]\n",
            "[ 32.     50.     77.     89.6   176.    211.982]\n"
          ],
          "name": "stdout"
        }
      ]
    },
    {
      "cell_type": "code",
      "metadata": {
        "id": "2jpcaF24vXa8",
        "outputId": "8f9f2bd5-3af4-4dbe-f7b7-0fe13e029486",
        "colab": {
          "base_uri": "https://localhost:8080/",
          "height": 34
        }
      },
      "source": [
        "\"\"\"centigrade_temps= [0, 10, 25, 32, 80, 99.99]\n",
        "def convert(celsius):\n",
        "  for i in centigrade_temps\n",
        "  f = float(i * 1.8) + 32\n",
        "  return f\n",
        "fahrenheit_temps=[]\n",
        "fahrenheit_temps=f.append()\n",
        "traial\n",
        "\n",
        "\"\"\"\n",
        "centigrade_temps = np.array([0, 10, 25, 32, 80, 99.99])\n",
        "x=[]\n",
        "# function for conversion\n",
        "def convert(celsius):\n",
        "    for i in np.nditer(celsius):\n",
        "        F=(i*9/5)+32\n",
        "        x.append(F)\n",
        "    \n",
        "convert(centigrade_temps)\n",
        "# display fahrehheit temperatures\n",
        "fahrenheit_temps=np.array(x)\n",
        "\n",
        "print(fahrenheit_temps)\n",
        "\n"
      ],
      "execution_count": null,
      "outputs": [
        {
          "output_type": "stream",
          "text": [
            "[ 32.     50.     77.     89.6   176.    211.982]\n"
          ],
          "name": "stdout"
        }
      ]
    },
    {
      "cell_type": "markdown",
      "metadata": {
        "id": "EwNAJzNM0oDS"
      },
      "source": [
        " \n",
        "Solve system of equations You have a system of a linear equation Ax = bAx=b where \n",
        "A = [ 2  1  2]\n",
        " [ 3  0  1]\n",
        " [ 1  1 -1]\n",
        " \n",
        "Define variables A and b as shown above Use .linalg.solve() to solve for the system of linear equation. Go through the documentation for numpy.linalg.solve to better understand its behaviour. Save this result as x Check that your solution is correct with the function np.allclose(np.dot(A,x), b) and save it to a variable check. Print out check to see if it is True or else try again!\n"
      ]
    },
    {
      "cell_type": "code",
      "metadata": {
        "id": "LlkYyRE500fS",
        "outputId": "fba1ae24-44b3-4240-e352-e0e081881031",
        "colab": {
          "base_uri": "https://localhost:8080/",
          "height": 204
        }
      },
      "source": [
        "\n",
        "import numpy as np\n",
        "A = np.array([[2,1,2], [3,0,1],[1,1,-1]])\n",
        "print (\"A=\",A)\n",
        "B= np.array([-3,5,2]) #b=np.array([[-3],[5],[2]])\n",
        "print(\"B=\",B)\n",
        "b=B.reshape(3,1) #not required if b=np.array([[-3],[5],[2]]) used\n",
        "print(\"b=\",b)\n",
        "x = np.linalg.solve(A, b)\n",
        "print(\"x=\",x)\n",
        "check=np.allclose(np.dot(A,x), b) \n",
        "print(\"check\",check)"
      ],
      "execution_count": null,
      "outputs": [
        {
          "output_type": "stream",
          "text": [
            "A= [[ 2  1  2]\n",
            " [ 3  0  1]\n",
            " [ 1  1 -1]]\n",
            "B= [-3  5  2]\n",
            "b= [[-3]\n",
            " [ 5]\n",
            " [ 2]]\n",
            "x= [[ 2.5]\n",
            " [-3. ]\n",
            " [-2.5]]\n",
            "check True\n"
          ],
          "name": "stdout"
        }
      ]
    },
    {
      "cell_type": "markdown",
      "metadata": {
        "id": "4FlJwatq5rpb"
      },
      "source": [
        "Find a 3x3 Non Singular Matrix Take a pen and paper for this task to find a 3×3nonsingular matrix A satisfying 3A=A^2+AB, where \n",
        "B=[2,0,-1]\n",
        "  [0,2,-1]\n",
        "  [-1,0,1]\n",
        "\n",
        "Find a non singular matrix Assume that A is a non-singular matrix Resolve the equation 3A = A^2 + AB until it reduces to a simpler form for you to carry out simple array addition. Array A should be coming as A = 3I - B where I is the Identity matrix Initialize array B using np.array() and I using np.identity() Save resultant array as A which is given mathematically by A = 3I - B.Display matrix A\n",
        " \n"
      ]
    },
    {
      "cell_type": "code",
      "metadata": {
        "id": "EmPfyjlA6pgK",
        "outputId": "ee1ee328-46b4-43f9-d0c1-542af568b328",
        "colab": {
          "base_uri": "https://localhost:8080/",
          "height": 126
        }
      },
      "source": [
        "import numpy as np\n",
        "# initialize array B and Identity matrix\n",
        "B=np.array([[2,0,-1],[0,2,-1],[-1,0,1]])\n",
        "I=np.eye(3)#eye prints identity matrix\n",
        "print(I)\n",
        "\n",
        "#print(B,I)\n",
        "# calculate result\n",
        "A=3*I-B\n",
        "print(A)\n",
        "# Code ends here"
      ],
      "execution_count": null,
      "outputs": [
        {
          "output_type": "stream",
          "text": [
            "[[1. 0. 0.]\n",
            " [0. 1. 0.]\n",
            " [0. 0. 1.]]\n",
            "[[1. 0. 1.]\n",
            " [0. 1. 1.]\n",
            " [1. 0. 2.]]\n"
          ],
          "name": "stdout"
        }
      ]
    },
    {
      "cell_type": "markdown",
      "metadata": {
        "id": "c9teGP5_Zv91"
      },
      "source": [
        "## PROJECT"
      ]
    },
    {
      "cell_type": "markdown",
      "metadata": {
        "id": "MuUC8Gx1Z1BP"
      },
      "source": [
        "Make sense of Census\n",
        "Instructions :\n",
        "Step 1: In this first task, we will load the data to a numpy array and add a new record to it.\n",
        "The path to the data set has been stored in the variable named path\n",
        "Load the dataset and store it in a variable called data using np.genfromtxt()\n",
        "\n",
        "  Example of genfromtxt function\n",
        "\n",
        "\n",
        "data_file='file.csv' # path for the file\n",
        "data=np.genfromtxt(data_file, delimiter=\",\", skip_header=1)\n",
        "\n",
        "print(\"\\nData: \\n\\n\", data)\n",
        "\n",
        "print(\"\\nType of data: \\n\\n\", type(data))\n",
        "\n",
        "Output\n",
        "Data: \n",
        "\n",
        "[[39. 13.  4. ...  0. 40.  0.]\n",
        " [50. 13.  4. ...  0. 13.  0.]\n",
        " [38.  9.  4. ...  0. 40.  0.]\n",
        " ...\n",
        " [48. 13.  4. ...  0. 58.  1.]\n",
        " [40. 10.  4. ...  0. 40.  0.]\n",
        " [39. 13.  4. ...  0. 50.  1.]]\n",
        "\n",
        "Type of data: \n",
        "\n",
        " <class 'numpy.ndarray'>\n",
        "\n",
        "\n",
        "Note:\n",
        "The parameter 'delimiter=\",\" ' is set because the file that we are opening has extension CSV(Comma Separated Values)\n",
        "The parameter 'skip_header=1' is set because the first row of the data(which is called header) contains string values but in our numpy array we need only integers(Remember numpy array can only store data of a single data type)\n",
        "\n",
        "Append 'new_record' (given) to 'data' using \"np.concatenate()\" and store the new array in a variable called census\n",
        "\n",
        "The shape of data should be (1000, 8) and that of census should be (1001,8).\n",
        "\n",
        "Step 2: We often associate the potential of a country based on the age distribution of the people residing there. We too want to do a simple analysis of the age distribution\n",
        "Instructions :\n",
        "Create a new array called 'age' by taking only age column(age is the column with index 0) of 'census' array.\n",
        "Find the max age and store it in a variable called 'max_age'.\n",
        "Find the min age and store it in a variable called 'min_age'.\n",
        "Find the mean of the age and store it in a variable called 'age_mean'.\n",
        "Find the standard deviation of the age and store it in a variable called 'age_std'.\n",
        "Ponder whether based on the above statistics, would you classify the country as 'young' or 'old'?\n",
        "\n",
        "max_age should be 90.\n",
        "min_age should be 17.\n",
        "age_mean, rounded off to two places, should be 38.06.\n",
        "age_std, rounded off to two places, should be13.34.\n",
        "\n",
        "Step 3: The constitution of the country tries it's best to ensure that people of all races are able to live harmoniously. Let's check the country's race distribution to identify the minorities so that the government can help them.\n",
        "Create four different arrays by subsetting 'census' array by Race column(Race is the column with index 2) and save them in 'race_0','race_1', 'race_2', 'race_3' and 'race_4' respectively(Meaning: Store the array where 'race'column has value 0 in 'race_0', so on and so forth)\n",
        "Store the length of the above created arrays in 'len_0', 'len_1','len_2', 'len_3' and 'len_4' respectively\n",
        "Find out which is the race with the minimum no. of citizens\n",
        "Store the number associated with the minority race in a variable called 'minority_race'(For eg: if \"len(race_5)\" is the minimum, store 5 in 'minority_race' because that is the index of the race having the least no. of citizens )\n",
        "\n",
        "minority_race should be 3.\n",
        "\n",
        "Step 4: As per the new govt. policy, all citizens above age 60 should not be made to work more than 25 hours per week. Let us look at the data and see if that policy is followed.\n",
        "Create a new subset array called 'senior_citizens' by filtering 'census' according to age>60 (age is the column with index 0)\n",
        "Add all the working hours(working hours is the column with index 6) of 'senior_citizens' and store it in a variable called 'working_hours_sum'\n",
        "Find the length of 'senior_citizens' and store it in a variable called 'senior_citizens_len'\n",
        "Finally find the average working hours of the senior citizens by dividing 'working_hours_sum' by 'senior_citizens_len' and store it in a variable called 'avg_working hours'.\n",
        "Print 'avg_working_hours' and see if the govt. policy is followed.\n",
        "\n",
        "working_hours_sum should be 1917.\n",
        "avg_working_hours, rounded off to two places, should be 31.43.\n",
        "\n",
        "Step 5: Our parents have repeatedly told us that we need to study well in order to get a good(read: higher-paying) job. Let's see whether the higher educated people have better pay in general.\n",
        "Create two new subset arrays called 'high' and 'low' by filtering 'census' according to education-num>10 and education-num<=10 (education-num is the column with index 1) respectively.\n",
        "Find the mean of income column(income is the column with index 7) of 'high' array and store it in 'avg_pay_high'. Do the same for 'low' array and store it's mean in 'avg_pay_low'.\n",
        "\n",
        "Note: - Since income is a binary variable, mean() here represents the percentage of ppl having annual income higher than 50K. - You could have used \"mean()\" function to solve the task 'Young Country? Old Country?' as well.\n",
        "\n",
        "Compare 'avg_pay_high' and 'avg_pay_low' and see whether there is truth in better education leads to better pay\n",
        "\n",
        "Test Cases: The correct value in 'avg_pay_high' should be 0.43 when rounded upto 2 decimal places. The correct value in 'avg_pay_low' should be 0.14 when rounded upto 2 decimal places.\n",
        "\n",
        "\n"
      ]
    },
    {
      "cell_type": "code",
      "metadata": {
        "id": "oXmPaTiMaAmx",
        "outputId": "69f11ac9-3466-4ef2-839e-bcdf908a8131",
        "colab": {
          "resources": {
            "http://localhost:8080/nbextensions/google.colab/files.js": {
              "data": "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",
              "ok": true,
              "headers": [
                [
                  "content-type",
                  "application/javascript"
                ]
              ],
              "status": 200,
              "status_text": ""
            }
          },
          "base_uri": "https://localhost:8080/",
          "height": 74
        }
      },
      "source": [
        "from google.colab import files\n",
        "uploaded = files.upload()"
      ],
      "execution_count": null,
      "outputs": [
        {
          "output_type": "display_data",
          "data": {
            "text/html": [
              "\n",
              "     <input type=\"file\" id=\"files-df7d9e7b-6556-4085-aad9-cb41361f8aa8\" name=\"files[]\" multiple disabled />\n",
              "     <output id=\"result-df7d9e7b-6556-4085-aad9-cb41361f8aa8\">\n",
              "      Upload widget is only available when the cell has been executed in the\n",
              "      current browser session. Please rerun this cell to enable.\n",
              "      </output>\n",
              "      <script src=\"/nbextensions/google.colab/files.js\"></script> "
            ],
            "text/plain": [
              "<IPython.core.display.HTML object>"
            ]
          },
          "metadata": {
            "tags": []
          }
        },
        {
          "output_type": "stream",
          "text": [
            "Saving census.csv to census.csv\n"
          ],
          "name": "stdout"
        }
      ]
    },
    {
      "cell_type": "markdown",
      "metadata": {
        "id": "x0Qhlh4Odsv_"
      },
      "source": [
        "step1"
      ]
    },
    {
      "cell_type": "code",
      "metadata": {
        "id": "lfv1FEeIb-1E",
        "outputId": "7684b722-10f7-41cb-ae01-1226d89ff285",
        "colab": {
          "base_uri": "https://localhost:8080/",
          "height": 255
        }
      },
      "source": [
        "import numpy as np\n",
        "data_file='census.csv' # path for the file\n",
        "data=np.genfromtxt(data_file, delimiter=\",\", skip_header=1)\n",
        "\n",
        "print(\"\\nData: \\n\\n\", data)\n",
        "\n",
        "print(\"\\nType of data: \\n\\n\", type(data))\n"
      ],
      "execution_count": null,
      "outputs": [
        {
          "output_type": "stream",
          "text": [
            "\n",
            "Data: \n",
            "\n",
            " [[39. 13.  4. ...  0. 40.  0.]\n",
            " [50. 13.  4. ...  0. 13.  0.]\n",
            " [38.  9.  4. ...  0. 40.  0.]\n",
            " ...\n",
            " [48. 13.  4. ...  0. 58.  1.]\n",
            " [40. 10.  4. ...  0. 40.  0.]\n",
            " [39. 13.  4. ...  0. 50.  1.]]\n",
            "\n",
            "Type of data: \n",
            "\n",
            " <class 'numpy.ndarray'>\n"
          ],
          "name": "stdout"
        }
      ]
    },
    {
      "cell_type": "code",
      "metadata": {
        "id": "wf0ZQMZ8fndd",
        "outputId": "7ad7affa-ff81-4029-a0ea-859cd19d7f7f",
        "colab": {
          "base_uri": "https://localhost:8080/",
          "height": 51
        }
      },
      "source": [
        "import numpy as np\n",
        "new_record=np.array([[56,12,4,1,0,0,35,0]])  #new_record=[[56,12,4,1,0,0,35,0]]\n",
        "census=np.concatenate((data,new_record),axis=0)\n",
        "print(\"shape of data\",np.shape(data))\n",
        "print(\"shape of census\",np.shape(census))"
      ],
      "execution_count": null,
      "outputs": [
        {
          "output_type": "stream",
          "text": [
            "shape of data (1000, 8)\n",
            "shape of census (1001, 8)\n"
          ],
          "name": "stdout"
        }
      ]
    },
    {
      "cell_type": "markdown",
      "metadata": {
        "id": "xyUdWtsoj0Zr"
      },
      "source": [
        "step 2"
      ]
    },
    {
      "cell_type": "code",
      "metadata": {
        "id": "iDLsprpLj1y9",
        "outputId": "0deb716f-8038-4a2b-e21e-f3f331c58c6d",
        "colab": {
          "base_uri": "https://localhost:8080/",
          "height": 34
        }
      },
      "source": [
        "age=census[:,0]\n",
        "print(age)"
      ],
      "execution_count": null,
      "outputs": [
        {
          "output_type": "stream",
          "text": [
            "[39. 50. 38. ... 40. 39. 56.]\n"
          ],
          "name": "stdout"
        }
      ]
    },
    {
      "cell_type": "code",
      "metadata": {
        "id": "DEyMpurzoEeA",
        "outputId": "a07e8bac-a611-439c-b09d-179d30781593",
        "colab": {
          "base_uri": "https://localhost:8080/",
          "height": 34
        }
      },
      "source": [
        "max_age=np.max(age) #age.max()\n",
        "print(\"max age\",max_age)"
      ],
      "execution_count": null,
      "outputs": [
        {
          "output_type": "stream",
          "text": [
            "max age 90.0\n"
          ],
          "name": "stdout"
        }
      ]
    },
    {
      "cell_type": "code",
      "metadata": {
        "id": "oYUNh2nioS-H",
        "outputId": "945ad009-da52-4e9a-8be5-9028525a7955",
        "colab": {
          "base_uri": "https://localhost:8080/",
          "height": 34
        }
      },
      "source": [
        "min_age=np.min(age)\n",
        "print(\"min age\",min_age)\n"
      ],
      "execution_count": null,
      "outputs": [
        {
          "output_type": "stream",
          "text": [
            "min age 17.0\n"
          ],
          "name": "stdout"
        }
      ]
    },
    {
      "cell_type": "code",
      "metadata": {
        "id": "hB_jx7iCol1M",
        "outputId": "a8158b43-43ad-4f76-8e3d-f508abc91654",
        "colab": {
          "base_uri": "https://localhost:8080/",
          "height": 51
        }
      },
      "source": [
        "age_mean=np.mean(age)\n",
        "print(\"age mean\",age_mean)\n",
        "round(age_mean,2)"
      ],
      "execution_count": null,
      "outputs": [
        {
          "output_type": "stream",
          "text": [
            "age mean 38.06893106893107\n"
          ],
          "name": "stdout"
        },
        {
          "output_type": "execute_result",
          "data": {
            "text/plain": [
              "38.07"
            ]
          },
          "metadata": {
            "tags": []
          },
          "execution_count": 8
        }
      ]
    },
    {
      "cell_type": "code",
      "metadata": {
        "id": "c5ubiSk_o0GJ",
        "outputId": "bab80707-1cc3-46db-cc0f-b89dd996ff2b",
        "colab": {
          "base_uri": "https://localhost:8080/",
          "height": 51
        }
      },
      "source": [
        "\n",
        "age_std=np.std(age)\n",
        "print(\"age std deviation\",age_std)\n",
        "round(age_std,2)"
      ],
      "execution_count": null,
      "outputs": [
        {
          "output_type": "stream",
          "text": [
            "age std deviation 13.348186007340368\n"
          ],
          "name": "stdout"
        },
        {
          "output_type": "execute_result",
          "data": {
            "text/plain": [
              "13.35"
            ]
          },
          "metadata": {
            "tags": []
          },
          "execution_count": 9
        }
      ]
    },
    {
      "cell_type": "markdown",
      "metadata": {
        "id": "AU_5sD_XqZ2I"
      },
      "source": [
        "Step 3"
      ]
    },
    {
      "cell_type": "code",
      "metadata": {
        "id": "-59xLcZ5qbbU",
        "outputId": "d7793813-5248-483c-9065-b3f15e0950ac",
        "colab": {
          "base_uri": "https://localhost:8080/",
          "height": 34
        }
      },
      "source": [
        "race=census[:,2]\n",
        "print(race)"
      ],
      "execution_count": null,
      "outputs": [
        {
          "output_type": "stream",
          "text": [
            "[4. 4. 4. ... 4. 4. 4.]\n"
          ],
          "name": "stdout"
        }
      ]
    },
    {
      "cell_type": "code",
      "metadata": {
        "id": "8I5GfoFFU3wM",
        "outputId": "25bc97ae-9051-48c9-a396-d99b7edc6ddc",
        "colab": {
          "base_uri": "https://localhost:8080/",
          "height": 122
        }
      },
      "source": [
        "race_0=[]\n",
        "race_1=[]\n",
        "race_2=[]\n",
        "race_3=[]\n",
        "race_4=[]\n",
        "for i in range(len(race)):\n",
        "    if race[i] == 0:\n",
        "        race_0.append(race[i])\n",
        "    elif race[i] == 1:\n",
        "        race_1.append(race[i])\n",
        "    elif race[i] == 2:\n",
        "        race_2.append(race[i])\n",
        "    elif race[i] == 3:\n",
        "        race_3.append(race[i]) \n",
        "    elif race[i] == 4:\n",
        "        race_4.append(race[i])       \n",
        "\n",
        "print(race_0)   \n",
        "print(race_1) \n",
        "print(race_2) \n",
        "print(race_3) \n",
        "print(race_4)     "
      ],
      "execution_count": null,
      "outputs": [
        {
          "output_type": "stream",
          "text": [
            "[0.0, 0.0, 0.0, 0.0, 0.0, 0.0, 0.0, 0.0, 0.0, 0.0]\n",
            "[1.0, 1.0, 1.0, 1.0, 1.0, 1.0, 1.0, 1.0, 1.0, 1.0, 1.0, 1.0, 1.0, 1.0, 1.0, 1.0, 1.0, 1.0, 1.0, 1.0, 1.0, 1.0, 1.0, 1.0, 1.0, 1.0, 1.0]\n",
            "[2.0, 2.0, 2.0, 2.0, 2.0, 2.0, 2.0, 2.0, 2.0, 2.0, 2.0, 2.0, 2.0, 2.0, 2.0, 2.0, 2.0, 2.0, 2.0, 2.0, 2.0, 2.0, 2.0, 2.0, 2.0, 2.0, 2.0, 2.0, 2.0, 2.0, 2.0, 2.0, 2.0, 2.0, 2.0, 2.0, 2.0, 2.0, 2.0, 2.0, 2.0, 2.0, 2.0, 2.0, 2.0, 2.0, 2.0, 2.0, 2.0, 2.0, 2.0, 2.0, 2.0, 2.0, 2.0, 2.0, 2.0, 2.0, 2.0, 2.0, 2.0, 2.0, 2.0, 2.0, 2.0, 2.0, 2.0, 2.0, 2.0, 2.0, 2.0, 2.0, 2.0, 2.0, 2.0, 2.0, 2.0, 2.0, 2.0, 2.0, 2.0, 2.0, 2.0, 2.0, 2.0, 2.0, 2.0, 2.0, 2.0, 2.0, 2.0, 2.0, 2.0, 2.0, 2.0, 2.0, 2.0, 2.0, 2.0, 2.0, 2.0, 2.0, 2.0, 2.0, 2.0, 2.0, 2.0, 2.0, 2.0, 2.0]\n",
            "[3.0, 3.0, 3.0, 3.0, 3.0, 3.0]\n",
            "[4.0, 4.0, 4.0, 4.0, 4.0, 4.0, 4.0, 4.0, 4.0, 4.0, 4.0, 4.0, 4.0, 4.0, 4.0, 4.0, 4.0, 4.0, 4.0, 4.0, 4.0, 4.0, 4.0, 4.0, 4.0, 4.0, 4.0, 4.0, 4.0, 4.0, 4.0, 4.0, 4.0, 4.0, 4.0, 4.0, 4.0, 4.0, 4.0, 4.0, 4.0, 4.0, 4.0, 4.0, 4.0, 4.0, 4.0, 4.0, 4.0, 4.0, 4.0, 4.0, 4.0, 4.0, 4.0, 4.0, 4.0, 4.0, 4.0, 4.0, 4.0, 4.0, 4.0, 4.0, 4.0, 4.0, 4.0, 4.0, 4.0, 4.0, 4.0, 4.0, 4.0, 4.0, 4.0, 4.0, 4.0, 4.0, 4.0, 4.0, 4.0, 4.0, 4.0, 4.0, 4.0, 4.0, 4.0, 4.0, 4.0, 4.0, 4.0, 4.0, 4.0, 4.0, 4.0, 4.0, 4.0, 4.0, 4.0, 4.0, 4.0, 4.0, 4.0, 4.0, 4.0, 4.0, 4.0, 4.0, 4.0, 4.0, 4.0, 4.0, 4.0, 4.0, 4.0, 4.0, 4.0, 4.0, 4.0, 4.0, 4.0, 4.0, 4.0, 4.0, 4.0, 4.0, 4.0, 4.0, 4.0, 4.0, 4.0, 4.0, 4.0, 4.0, 4.0, 4.0, 4.0, 4.0, 4.0, 4.0, 4.0, 4.0, 4.0, 4.0, 4.0, 4.0, 4.0, 4.0, 4.0, 4.0, 4.0, 4.0, 4.0, 4.0, 4.0, 4.0, 4.0, 4.0, 4.0, 4.0, 4.0, 4.0, 4.0, 4.0, 4.0, 4.0, 4.0, 4.0, 4.0, 4.0, 4.0, 4.0, 4.0, 4.0, 4.0, 4.0, 4.0, 4.0, 4.0, 4.0, 4.0, 4.0, 4.0, 4.0, 4.0, 4.0, 4.0, 4.0, 4.0, 4.0, 4.0, 4.0, 4.0, 4.0, 4.0, 4.0, 4.0, 4.0, 4.0, 4.0, 4.0, 4.0, 4.0, 4.0, 4.0, 4.0, 4.0, 4.0, 4.0, 4.0, 4.0, 4.0, 4.0, 4.0, 4.0, 4.0, 4.0, 4.0, 4.0, 4.0, 4.0, 4.0, 4.0, 4.0, 4.0, 4.0, 4.0, 4.0, 4.0, 4.0, 4.0, 4.0, 4.0, 4.0, 4.0, 4.0, 4.0, 4.0, 4.0, 4.0, 4.0, 4.0, 4.0, 4.0, 4.0, 4.0, 4.0, 4.0, 4.0, 4.0, 4.0, 4.0, 4.0, 4.0, 4.0, 4.0, 4.0, 4.0, 4.0, 4.0, 4.0, 4.0, 4.0, 4.0, 4.0, 4.0, 4.0, 4.0, 4.0, 4.0, 4.0, 4.0, 4.0, 4.0, 4.0, 4.0, 4.0, 4.0, 4.0, 4.0, 4.0, 4.0, 4.0, 4.0, 4.0, 4.0, 4.0, 4.0, 4.0, 4.0, 4.0, 4.0, 4.0, 4.0, 4.0, 4.0, 4.0, 4.0, 4.0, 4.0, 4.0, 4.0, 4.0, 4.0, 4.0, 4.0, 4.0, 4.0, 4.0, 4.0, 4.0, 4.0, 4.0, 4.0, 4.0, 4.0, 4.0, 4.0, 4.0, 4.0, 4.0, 4.0, 4.0, 4.0, 4.0, 4.0, 4.0, 4.0, 4.0, 4.0, 4.0, 4.0, 4.0, 4.0, 4.0, 4.0, 4.0, 4.0, 4.0, 4.0, 4.0, 4.0, 4.0, 4.0, 4.0, 4.0, 4.0, 4.0, 4.0, 4.0, 4.0, 4.0, 4.0, 4.0, 4.0, 4.0, 4.0, 4.0, 4.0, 4.0, 4.0, 4.0, 4.0, 4.0, 4.0, 4.0, 4.0, 4.0, 4.0, 4.0, 4.0, 4.0, 4.0, 4.0, 4.0, 4.0, 4.0, 4.0, 4.0, 4.0, 4.0, 4.0, 4.0, 4.0, 4.0, 4.0, 4.0, 4.0, 4.0, 4.0, 4.0, 4.0, 4.0, 4.0, 4.0, 4.0, 4.0, 4.0, 4.0, 4.0, 4.0, 4.0, 4.0, 4.0, 4.0, 4.0, 4.0, 4.0, 4.0, 4.0, 4.0, 4.0, 4.0, 4.0, 4.0, 4.0, 4.0, 4.0, 4.0, 4.0, 4.0, 4.0, 4.0, 4.0, 4.0, 4.0, 4.0, 4.0, 4.0, 4.0, 4.0, 4.0, 4.0, 4.0, 4.0, 4.0, 4.0, 4.0, 4.0, 4.0, 4.0, 4.0, 4.0, 4.0, 4.0, 4.0, 4.0, 4.0, 4.0, 4.0, 4.0, 4.0, 4.0, 4.0, 4.0, 4.0, 4.0, 4.0, 4.0, 4.0, 4.0, 4.0, 4.0, 4.0, 4.0, 4.0, 4.0, 4.0, 4.0, 4.0, 4.0, 4.0, 4.0, 4.0, 4.0, 4.0, 4.0, 4.0, 4.0, 4.0, 4.0, 4.0, 4.0, 4.0, 4.0, 4.0, 4.0, 4.0, 4.0, 4.0, 4.0, 4.0, 4.0, 4.0, 4.0, 4.0, 4.0, 4.0, 4.0, 4.0, 4.0, 4.0, 4.0, 4.0, 4.0, 4.0, 4.0, 4.0, 4.0, 4.0, 4.0, 4.0, 4.0, 4.0, 4.0, 4.0, 4.0, 4.0, 4.0, 4.0, 4.0, 4.0, 4.0, 4.0, 4.0, 4.0, 4.0, 4.0, 4.0, 4.0, 4.0, 4.0, 4.0, 4.0, 4.0, 4.0, 4.0, 4.0, 4.0, 4.0, 4.0, 4.0, 4.0, 4.0, 4.0, 4.0, 4.0, 4.0, 4.0, 4.0, 4.0, 4.0, 4.0, 4.0, 4.0, 4.0, 4.0, 4.0, 4.0, 4.0, 4.0, 4.0, 4.0, 4.0, 4.0, 4.0, 4.0, 4.0, 4.0, 4.0, 4.0, 4.0, 4.0, 4.0, 4.0, 4.0, 4.0, 4.0, 4.0, 4.0, 4.0, 4.0, 4.0, 4.0, 4.0, 4.0, 4.0, 4.0, 4.0, 4.0, 4.0, 4.0, 4.0, 4.0, 4.0, 4.0, 4.0, 4.0, 4.0, 4.0, 4.0, 4.0, 4.0, 4.0, 4.0, 4.0, 4.0, 4.0, 4.0, 4.0, 4.0, 4.0, 4.0, 4.0, 4.0, 4.0, 4.0, 4.0, 4.0, 4.0, 4.0, 4.0, 4.0, 4.0, 4.0, 4.0, 4.0, 4.0, 4.0, 4.0, 4.0, 4.0, 4.0, 4.0, 4.0, 4.0, 4.0, 4.0, 4.0, 4.0, 4.0, 4.0, 4.0, 4.0, 4.0, 4.0, 4.0, 4.0, 4.0, 4.0, 4.0, 4.0, 4.0, 4.0, 4.0, 4.0, 4.0, 4.0, 4.0, 4.0, 4.0, 4.0, 4.0, 4.0, 4.0, 4.0, 4.0, 4.0, 4.0, 4.0, 4.0, 4.0, 4.0, 4.0, 4.0, 4.0, 4.0, 4.0, 4.0, 4.0, 4.0, 4.0, 4.0, 4.0, 4.0, 4.0, 4.0, 4.0, 4.0, 4.0, 4.0, 4.0, 4.0, 4.0, 4.0, 4.0, 4.0, 4.0, 4.0, 4.0, 4.0, 4.0, 4.0, 4.0, 4.0, 4.0, 4.0, 4.0, 4.0, 4.0, 4.0, 4.0, 4.0, 4.0, 4.0, 4.0, 4.0, 4.0, 4.0, 4.0, 4.0, 4.0, 4.0, 4.0, 4.0, 4.0, 4.0, 4.0, 4.0, 4.0, 4.0, 4.0, 4.0, 4.0, 4.0, 4.0, 4.0, 4.0, 4.0, 4.0, 4.0, 4.0, 4.0, 4.0, 4.0, 4.0, 4.0, 4.0, 4.0, 4.0, 4.0, 4.0, 4.0, 4.0, 4.0, 4.0, 4.0, 4.0, 4.0, 4.0, 4.0, 4.0, 4.0, 4.0, 4.0, 4.0, 4.0, 4.0, 4.0, 4.0, 4.0, 4.0, 4.0, 4.0, 4.0, 4.0, 4.0, 4.0, 4.0, 4.0, 4.0, 4.0, 4.0, 4.0, 4.0, 4.0, 4.0, 4.0, 4.0, 4.0, 4.0, 4.0, 4.0, 4.0, 4.0, 4.0, 4.0, 4.0, 4.0, 4.0, 4.0, 4.0, 4.0, 4.0, 4.0, 4.0, 4.0, 4.0, 4.0, 4.0, 4.0, 4.0, 4.0, 4.0, 4.0, 4.0, 4.0, 4.0, 4.0, 4.0, 4.0, 4.0, 4.0, 4.0, 4.0, 4.0, 4.0, 4.0, 4.0, 4.0, 4.0, 4.0, 4.0, 4.0, 4.0, 4.0, 4.0, 4.0, 4.0, 4.0, 4.0, 4.0, 4.0, 4.0, 4.0, 4.0, 4.0]\n"
          ],
          "name": "stdout"
        }
      ]
    },
    {
      "cell_type": "code",
      "metadata": {
        "id": "NllDj3BL71xS",
        "outputId": "1c8a633e-66db-4b41-d7a7-5bc60ca91d54",
        "colab": {
          "base_uri": "https://localhost:8080/",
          "height": 1000
        }
      },
      "source": [
        "#Subsetting easy way very very vey imp\n",
        "\n",
        "\n",
        "race_0=census[census[:,2]==0]\n",
        "race_1=census[census[:,2]==1]\n",
        "race_2=census[census[:,2]==2]\n",
        "race_3=census[census[:,2]==3]\n",
        "race_4=census[census[:,2]==4]\n",
        "print(race_0)   \n",
        "print(race_1) \n",
        "print(race_2) \n",
        "print(race_3) \n",
        "print(race_4)  "
      ],
      "execution_count": null,
      "outputs": [
        {
          "output_type": "stream",
          "text": [
            "[[34.  4.  0.  1.  0.  0. 45.  0.]\n",
            " [35. 10.  0.  0.  0.  0. 40.  0.]\n",
            " [60.  6.  0.  0.  0.  0. 10.  0.]\n",
            " [51.  9.  0.  1.  0.  0. 40.  0.]\n",
            " [25. 10.  0.  0.  0.  0. 20.  0.]\n",
            " [20.  9.  0.  1.  0.  0. 48.  0.]\n",
            " [23. 10.  0.  0.  0.  0. 25.  0.]\n",
            " [29.  9.  0.  1.  0.  0. 40.  0.]\n",
            " [27. 12.  0.  1.  0.  0. 40.  0.]\n",
            " [31. 12.  0.  0.  0.  0. 40.  0.]]\n",
            "[[3.000e+01 1.300e+01 1.000e+00 1.000e+00 0.000e+00 0.000e+00 4.000e+01\n",
            "  1.000e+00]\n",
            " [4.000e+01 1.100e+01 1.000e+00 1.000e+00 0.000e+00 0.000e+00 4.000e+01\n",
            "  1.000e+00]\n",
            " [5.400e+01 1.000e+01 1.000e+00 1.000e+00 0.000e+00 0.000e+00 6.000e+01\n",
            "  1.000e+00]\n",
            " [3.000e+01 9.000e+00 1.000e+00 0.000e+00 0.000e+00 1.573e+03 3.500e+01\n",
            "  0.000e+00]\n",
            " [4.900e+01 1.000e+01 1.000e+00 1.000e+00 0.000e+00 0.000e+00 4.000e+01\n",
            "  1.000e+00]\n",
            " [3.300e+01 1.300e+01 1.000e+00 0.000e+00 0.000e+00 0.000e+00 4.000e+01\n",
            "  0.000e+00]\n",
            " [4.400e+01 1.400e+01 1.000e+00 0.000e+00 0.000e+00 0.000e+00 4.000e+01\n",
            "  0.000e+00]\n",
            " [2.800e+01 9.000e+00 1.000e+00 0.000e+00 0.000e+00 0.000e+00 4.000e+01\n",
            "  0.000e+00]\n",
            " [6.000e+01 9.000e+00 1.000e+00 1.000e+00 0.000e+00 0.000e+00 4.000e+01\n",
            "  0.000e+00]\n",
            " [4.200e+01 9.000e+00 1.000e+00 1.000e+00 0.000e+00 0.000e+00 4.000e+01\n",
            "  1.000e+00]\n",
            " [3.700e+01 1.000e+01 1.000e+00 1.000e+00 0.000e+00 0.000e+00 7.500e+01\n",
            "  1.000e+00]\n",
            " [3.900e+01 1.400e+01 1.000e+00 0.000e+00 3.464e+03 0.000e+00 4.000e+01\n",
            "  0.000e+00]\n",
            " [2.100e+01 1.000e+01 1.000e+00 0.000e+00 0.000e+00 0.000e+00 2.500e+01\n",
            "  0.000e+00]\n",
            " [2.400e+01 1.000e+01 1.000e+00 0.000e+00 0.000e+00 0.000e+00 4.000e+01\n",
            "  0.000e+00]\n",
            " [3.400e+01 1.400e+01 1.000e+00 1.000e+00 7.298e+03 0.000e+00 3.500e+01\n",
            "  1.000e+00]\n",
            " [2.700e+01 1.000e+01 1.000e+00 1.000e+00 0.000e+00 1.980e+03 4.000e+01\n",
            "  0.000e+00]\n",
            " [4.000e+01 1.100e+01 1.000e+00 1.000e+00 0.000e+00 0.000e+00 4.000e+01\n",
            "  1.000e+00]\n",
            " [5.500e+01 9.000e+00 1.000e+00 0.000e+00 0.000e+00 0.000e+00 4.000e+01\n",
            "  0.000e+00]\n",
            " [3.500e+01 1.600e+01 1.000e+00 1.000e+00 0.000e+00 0.000e+00 4.000e+01\n",
            "  1.000e+00]\n",
            " [2.900e+01 1.000e+01 1.000e+00 0.000e+00 0.000e+00 0.000e+00 4.000e+01\n",
            "  0.000e+00]\n",
            " [2.000e+01 7.000e+00 1.000e+00 0.000e+00 0.000e+00 1.762e+03 4.000e+01\n",
            "  0.000e+00]\n",
            " [5.500e+01 1.000e+01 1.000e+00 0.000e+00 0.000e+00 0.000e+00 4.000e+01\n",
            "  0.000e+00]\n",
            " [5.100e+01 1.300e+01 1.000e+00 1.000e+00 0.000e+00 2.415e+03 4.000e+01\n",
            "  1.000e+00]\n",
            " [2.800e+01 1.100e+01 1.000e+00 0.000e+00 0.000e+00 0.000e+00 4.000e+01\n",
            "  0.000e+00]\n",
            " [4.300e+01 1.400e+01 1.000e+00 0.000e+00 0.000e+00 0.000e+00 5.000e+01\n",
            "  0.000e+00]\n",
            " [6.700e+01 9.000e+00 1.000e+00 1.000e+00 0.000e+00 0.000e+00 4.000e+01\n",
            "  1.000e+00]\n",
            " [4.800e+01 1.300e+01 1.000e+00 1.000e+00 0.000e+00 0.000e+00 4.000e+01\n",
            "  1.000e+00]]\n",
            "[[5.300e+01 7.000e+00 2.000e+00 1.000e+00 0.000e+00 0.000e+00 4.000e+01\n",
            "  0.000e+00]\n",
            " [2.800e+01 1.300e+01 2.000e+00 0.000e+00 0.000e+00 0.000e+00 4.000e+01\n",
            "  0.000e+00]\n",
            " [4.900e+01 5.000e+00 2.000e+00 0.000e+00 0.000e+00 0.000e+00 1.600e+01\n",
            "  0.000e+00]\n",
            " [3.700e+01 1.000e+01 2.000e+00 1.000e+00 0.000e+00 0.000e+00 8.000e+01\n",
            "  1.000e+00]\n",
            " [3.200e+01 1.200e+01 2.000e+00 1.000e+00 0.000e+00 0.000e+00 5.000e+01\n",
            "  0.000e+00]\n",
            " [5.400e+01 9.000e+00 2.000e+00 0.000e+00 0.000e+00 0.000e+00 2.000e+01\n",
            "  0.000e+00]\n",
            " [3.500e+01 5.000e+00 2.000e+00 1.000e+00 0.000e+00 0.000e+00 4.000e+01\n",
            "  0.000e+00]\n",
            " [2.000e+01 1.000e+01 2.000e+00 1.000e+00 0.000e+00 0.000e+00 4.400e+01\n",
            "  0.000e+00]\n",
            " [2.200e+01 1.000e+01 2.000e+00 1.000e+00 0.000e+00 0.000e+00 1.500e+01\n",
            "  0.000e+00]\n",
            " [5.700e+01 1.300e+01 2.000e+00 1.000e+00 0.000e+00 0.000e+00 4.000e+01\n",
            "  1.000e+00]\n",
            " [3.100e+01 1.300e+01 2.000e+00 0.000e+00 0.000e+00 0.000e+00 4.000e+01\n",
            "  0.000e+00]\n",
            " [2.800e+01 1.000e+01 2.000e+00 0.000e+00 0.000e+00 0.000e+00 2.500e+01\n",
            "  0.000e+00]\n",
            " [3.200e+01 9.000e+00 2.000e+00 1.000e+00 0.000e+00 0.000e+00 4.000e+01\n",
            "  0.000e+00]\n",
            " [4.900e+01 1.100e+01 2.000e+00 1.000e+00 0.000e+00 0.000e+00 4.000e+01\n",
            "  1.000e+00]\n",
            " [3.000e+01 1.300e+01 2.000e+00 1.000e+00 0.000e+00 0.000e+00 4.000e+01\n",
            "  0.000e+00]\n",
            " [1.900e+01 1.000e+01 2.000e+00 1.000e+00 0.000e+00 0.000e+00 3.500e+01\n",
            "  0.000e+00]\n",
            " [4.600e+01 1.200e+01 2.000e+00 0.000e+00 0.000e+00 0.000e+00 3.600e+01\n",
            "  0.000e+00]\n",
            " [3.100e+01 9.000e+00 2.000e+00 0.000e+00 0.000e+00 0.000e+00 3.000e+01\n",
            "  0.000e+00]\n",
            " [7.100e+01 1.000e+01 2.000e+00 1.000e+00 0.000e+00 1.816e+03 2.000e+00\n",
            "  0.000e+00]\n",
            " [4.200e+01 1.300e+01 2.000e+00 1.000e+00 0.000e+00 0.000e+00 5.000e+01\n",
            "  0.000e+00]\n",
            " [2.100e+01 9.000e+00 2.000e+00 1.000e+00 0.000e+00 0.000e+00 4.000e+01\n",
            "  0.000e+00]\n",
            " [3.400e+01 9.000e+00 2.000e+00 1.000e+00 0.000e+00 0.000e+00 4.000e+01\n",
            "  0.000e+00]\n",
            " [4.400e+01 1.000e+01 2.000e+00 1.000e+00 0.000e+00 0.000e+00 3.800e+01\n",
            "  1.000e+00]\n",
            " [3.000e+01 1.000e+01 2.000e+00 1.000e+00 0.000e+00 0.000e+00 4.500e+01\n",
            "  0.000e+00]\n",
            " [3.400e+01 9.000e+00 2.000e+00 1.000e+00 0.000e+00 0.000e+00 4.000e+01\n",
            "  0.000e+00]\n",
            " [3.800e+01 1.000e+01 2.000e+00 0.000e+00 0.000e+00 0.000e+00 2.800e+01\n",
            "  0.000e+00]\n",
            " [4.100e+01 1.300e+01 2.000e+00 1.000e+00 0.000e+00 0.000e+00 4.000e+01\n",
            "  0.000e+00]\n",
            " [3.600e+01 1.300e+01 2.000e+00 1.000e+00 7.298e+03 0.000e+00 3.600e+01\n",
            "  1.000e+00]\n",
            " [4.400e+01 9.000e+00 2.000e+00 1.000e+00 0.000e+00 0.000e+00 4.000e+01\n",
            "  0.000e+00]\n",
            " [3.700e+01 1.300e+01 2.000e+00 1.000e+00 0.000e+00 0.000e+00 6.000e+01\n",
            "  1.000e+00]\n",
            " [9.000e+01 9.000e+00 2.000e+00 1.000e+00 0.000e+00 2.206e+03 4.000e+01\n",
            "  0.000e+00]\n",
            " [5.400e+01 9.000e+00 2.000e+00 1.000e+00 0.000e+00 0.000e+00 2.000e+01\n",
            "  0.000e+00]\n",
            " [3.500e+01 7.000e+00 2.000e+00 1.000e+00 3.674e+03 0.000e+00 4.000e+01\n",
            "  0.000e+00]\n",
            " [4.100e+01 9.000e+00 2.000e+00 0.000e+00 0.000e+00 0.000e+00 3.800e+01\n",
            "  0.000e+00]\n",
            " [4.200e+01 1.300e+01 2.000e+00 0.000e+00 0.000e+00 0.000e+00 4.000e+01\n",
            "  0.000e+00]\n",
            " [5.900e+01 6.000e+00 2.000e+00 0.000e+00 0.000e+00 0.000e+00 3.000e+01\n",
            "  0.000e+00]\n",
            " [4.300e+01 9.000e+00 2.000e+00 1.000e+00 0.000e+00 0.000e+00 4.000e+01\n",
            "  0.000e+00]\n",
            " [3.400e+01 1.200e+01 2.000e+00 0.000e+00 0.000e+00 0.000e+00 4.500e+01\n",
            "  0.000e+00]\n",
            " [2.700e+01 1.300e+01 2.000e+00 0.000e+00 0.000e+00 0.000e+00 4.000e+01\n",
            "  0.000e+00]\n",
            " [1.900e+01 1.000e+01 2.000e+00 0.000e+00 0.000e+00 0.000e+00 2.500e+01\n",
            "  0.000e+00]\n",
            " [3.600e+01 1.300e+01 2.000e+00 0.000e+00 0.000e+00 0.000e+00 4.000e+01\n",
            "  1.000e+00]\n",
            " [2.300e+01 1.100e+01 2.000e+00 0.000e+00 0.000e+00 0.000e+00 1.500e+01\n",
            "  0.000e+00]\n",
            " [4.100e+01 1.000e+01 2.000e+00 1.000e+00 0.000e+00 0.000e+00 4.500e+01\n",
            "  0.000e+00]\n",
            " [1.900e+01 9.000e+00 2.000e+00 1.000e+00 0.000e+00 0.000e+00 3.000e+01\n",
            "  0.000e+00]\n",
            " [4.500e+01 9.000e+00 2.000e+00 1.000e+00 0.000e+00 0.000e+00 4.000e+01\n",
            "  0.000e+00]\n",
            " [2.200e+01 1.000e+01 2.000e+00 0.000e+00 0.000e+00 0.000e+00 4.000e+01\n",
            "  0.000e+00]\n",
            " [4.500e+01 9.000e+00 2.000e+00 1.000e+00 0.000e+00 0.000e+00 4.000e+01\n",
            "  0.000e+00]\n",
            " [4.400e+01 9.000e+00 2.000e+00 1.000e+00 0.000e+00 0.000e+00 4.000e+01\n",
            "  0.000e+00]\n",
            " [4.100e+01 1.000e+01 2.000e+00 0.000e+00 0.000e+00 0.000e+00 2.400e+01\n",
            "  0.000e+00]\n",
            " [2.400e+01 9.000e+00 2.000e+00 0.000e+00 0.000e+00 0.000e+00 4.000e+01\n",
            "  0.000e+00]\n",
            " [3.400e+01 7.000e+00 2.000e+00 1.000e+00 0.000e+00 0.000e+00 4.000e+01\n",
            "  0.000e+00]\n",
            " [3.400e+01 9.000e+00 2.000e+00 1.000e+00 5.940e+02 0.000e+00 6.000e+01\n",
            "  0.000e+00]\n",
            " [4.400e+01 9.000e+00 2.000e+00 0.000e+00 0.000e+00 0.000e+00 4.000e+01\n",
            "  0.000e+00]\n",
            " [1.900e+01 9.000e+00 2.000e+00 0.000e+00 0.000e+00 0.000e+00 4.000e+01\n",
            "  0.000e+00]\n",
            " [4.200e+01 1.200e+01 2.000e+00 1.000e+00 0.000e+00 0.000e+00 4.000e+01\n",
            "  1.000e+00]\n",
            " [3.800e+01 1.000e+01 2.000e+00 1.000e+00 0.000e+00 0.000e+00 5.000e+01\n",
            "  0.000e+00]\n",
            " [5.400e+01 9.000e+00 2.000e+00 1.000e+00 0.000e+00 0.000e+00 4.000e+01\n",
            "  0.000e+00]\n",
            " [5.200e+01 8.000e+00 2.000e+00 1.000e+00 5.940e+02 0.000e+00 4.000e+01\n",
            "  0.000e+00]\n",
            " [2.500e+01 1.000e+01 2.000e+00 0.000e+00 0.000e+00 0.000e+00 2.000e+01\n",
            "  0.000e+00]\n",
            " [2.400e+01 1.300e+01 2.000e+00 1.000e+00 0.000e+00 0.000e+00 4.000e+01\n",
            "  0.000e+00]\n",
            " [4.700e+01 9.000e+00 2.000e+00 0.000e+00 0.000e+00 0.000e+00 4.000e+01\n",
            "  0.000e+00]\n",
            " [5.300e+01 3.000e+00 2.000e+00 0.000e+00 0.000e+00 0.000e+00 3.000e+01\n",
            "  0.000e+00]\n",
            " [2.400e+01 1.000e+01 2.000e+00 1.000e+00 0.000e+00 0.000e+00 5.000e+01\n",
            "  0.000e+00]\n",
            " [3.600e+01 9.000e+00 2.000e+00 1.000e+00 0.000e+00 0.000e+00 4.000e+01\n",
            "  0.000e+00]\n",
            " [5.700e+01 2.000e+00 2.000e+00 0.000e+00 0.000e+00 0.000e+00 3.000e+01\n",
            "  0.000e+00]\n",
            " [3.400e+01 9.000e+00 2.000e+00 0.000e+00 0.000e+00 0.000e+00 4.000e+01\n",
            "  0.000e+00]\n",
            " [3.500e+01 9.000e+00 2.000e+00 0.000e+00 0.000e+00 0.000e+00 4.000e+01\n",
            "  0.000e+00]\n",
            " [3.300e+01 1.100e+01 2.000e+00 0.000e+00 0.000e+00 0.000e+00 4.000e+01\n",
            "  1.000e+00]\n",
            " [2.400e+01 9.000e+00 2.000e+00 0.000e+00 0.000e+00 0.000e+00 4.000e+01\n",
            "  0.000e+00]\n",
            " [4.800e+01 9.000e+00 2.000e+00 0.000e+00 0.000e+00 0.000e+00 3.700e+01\n",
            "  0.000e+00]\n",
            " [3.600e+01 9.000e+00 2.000e+00 1.000e+00 0.000e+00 0.000e+00 4.000e+01\n",
            "  0.000e+00]\n",
            " [3.000e+01 9.000e+00 2.000e+00 1.000e+00 0.000e+00 0.000e+00 4.500e+01\n",
            "  0.000e+00]\n",
            " [4.500e+01 7.000e+00 2.000e+00 0.000e+00 0.000e+00 0.000e+00 2.000e+01\n",
            "  0.000e+00]\n",
            " [6.500e+01 5.000e+00 2.000e+00 0.000e+00 0.000e+00 0.000e+00 2.400e+01\n",
            "  0.000e+00]\n",
            " [3.000e+01 9.000e+00 2.000e+00 1.000e+00 0.000e+00 0.000e+00 6.000e+01\n",
            "  0.000e+00]\n",
            " [4.700e+01 1.000e+01 2.000e+00 0.000e+00 0.000e+00 0.000e+00 4.000e+01\n",
            "  0.000e+00]\n",
            " [4.900e+01 6.000e+00 2.000e+00 0.000e+00 0.000e+00 0.000e+00 4.000e+01\n",
            "  0.000e+00]\n",
            " [3.000e+01 1.300e+01 2.000e+00 0.000e+00 0.000e+00 0.000e+00 4.000e+01\n",
            "  1.000e+00]\n",
            " [4.400e+01 8.000e+00 2.000e+00 1.000e+00 0.000e+00 0.000e+00 4.000e+01\n",
            "  1.000e+00]\n",
            " [4.200e+01 9.000e+00 2.000e+00 1.000e+00 0.000e+00 0.000e+00 4.000e+01\n",
            "  1.000e+00]\n",
            " [2.300e+01 1.000e+01 2.000e+00 1.000e+00 0.000e+00 0.000e+00 4.000e+01\n",
            "  0.000e+00]\n",
            " [2.400e+01 1.000e+01 2.000e+00 0.000e+00 0.000e+00 0.000e+00 4.500e+01\n",
            "  0.000e+00]\n",
            " [4.000e+01 8.000e+00 2.000e+00 1.000e+00 0.000e+00 0.000e+00 4.000e+01\n",
            "  0.000e+00]\n",
            " [4.500e+01 1.000e+01 2.000e+00 1.000e+00 0.000e+00 0.000e+00 4.000e+01\n",
            "  0.000e+00]\n",
            " [3.600e+01 1.000e+01 2.000e+00 0.000e+00 0.000e+00 0.000e+00 4.000e+01\n",
            "  0.000e+00]\n",
            " [3.100e+01 9.000e+00 2.000e+00 0.000e+00 0.000e+00 0.000e+00 4.000e+01\n",
            "  0.000e+00]\n",
            " [4.500e+01 1.000e+01 2.000e+00 0.000e+00 0.000e+00 0.000e+00 4.000e+01\n",
            "  0.000e+00]\n",
            " [3.600e+01 1.000e+01 2.000e+00 0.000e+00 0.000e+00 0.000e+00 3.600e+01\n",
            "  0.000e+00]\n",
            " [5.600e+01 9.000e+00 2.000e+00 0.000e+00 5.940e+02 0.000e+00 2.000e+01\n",
            "  0.000e+00]\n",
            " [3.200e+01 1.000e+01 2.000e+00 0.000e+00 0.000e+00 0.000e+00 4.000e+01\n",
            "  0.000e+00]\n",
            " [2.900e+01 7.000e+00 2.000e+00 1.000e+00 0.000e+00 0.000e+00 4.000e+01\n",
            "  0.000e+00]\n",
            " [3.700e+01 9.000e+00 2.000e+00 1.000e+00 0.000e+00 0.000e+00 4.000e+01\n",
            "  0.000e+00]\n",
            " [4.200e+01 1.000e+01 2.000e+00 0.000e+00 0.000e+00 0.000e+00 3.800e+01\n",
            "  0.000e+00]\n",
            " [2.200e+01 1.000e+01 2.000e+00 1.000e+00 0.000e+00 0.000e+00 2.000e+01\n",
            "  0.000e+00]\n",
            " [2.500e+01 9.000e+00 2.000e+00 1.000e+00 0.000e+00 0.000e+00 4.000e+01\n",
            "  0.000e+00]\n",
            " [2.400e+01 9.000e+00 2.000e+00 1.000e+00 0.000e+00 1.721e+03 3.000e+01\n",
            "  0.000e+00]\n",
            " [2.200e+01 1.000e+01 2.000e+00 1.000e+00 0.000e+00 0.000e+00 4.000e+01\n",
            "  0.000e+00]\n",
            " [5.500e+01 3.000e+00 2.000e+00 1.000e+00 0.000e+00 0.000e+00 2.500e+01\n",
            "  0.000e+00]\n",
            " [2.300e+01 9.000e+00 2.000e+00 0.000e+00 0.000e+00 0.000e+00 7.000e+00\n",
            "  0.000e+00]\n",
            " [5.400e+01 9.000e+00 2.000e+00 1.000e+00 0.000e+00 0.000e+00 4.000e+01\n",
            "  0.000e+00]\n",
            " [4.800e+01 1.000e+01 2.000e+00 0.000e+00 0.000e+00 0.000e+00 3.000e+01\n",
            "  0.000e+00]\n",
            " [2.400e+01 1.300e+01 2.000e+00 1.000e+00 0.000e+00 0.000e+00 1.500e+01\n",
            "  0.000e+00]\n",
            " [2.300e+01 9.000e+00 2.000e+00 1.000e+00 0.000e+00 0.000e+00 4.000e+01\n",
            "  0.000e+00]\n",
            " [3.800e+01 1.000e+01 2.000e+00 0.000e+00 0.000e+00 0.000e+00 4.000e+01\n",
            "  0.000e+00]\n",
            " [3.500e+01 9.000e+00 2.000e+00 1.000e+00 0.000e+00 0.000e+00 4.000e+01\n",
            "  0.000e+00]\n",
            " [5.400e+01 1.000e+01 2.000e+00 0.000e+00 0.000e+00 0.000e+00 3.500e+01\n",
            "  0.000e+00]\n",
            " [5.100e+01 4.000e+00 2.000e+00 0.000e+00 0.000e+00 0.000e+00 4.000e+01\n",
            "  0.000e+00]\n",
            " [7.800e+01 9.000e+00 2.000e+00 0.000e+00 2.964e+03 0.000e+00 4.000e+01\n",
            "  0.000e+00]\n",
            " [2.300e+01 9.000e+00 2.000e+00 0.000e+00 0.000e+00 0.000e+00 4.000e+01\n",
            "  0.000e+00]\n",
            " [4.100e+01 9.000e+00 2.000e+00 0.000e+00 0.000e+00 0.000e+00 3.500e+01\n",
            "  0.000e+00]]\n",
            "[[2.500e+01 1.000e+01 3.000e+00 0.000e+00 0.000e+00 0.000e+00 4.000e+01\n",
            "  0.000e+00]\n",
            " [3.300e+01 1.000e+01 3.000e+00 0.000e+00 0.000e+00 0.000e+00 4.000e+01\n",
            "  0.000e+00]\n",
            " [6.500e+01 7.000e+00 3.000e+00 1.000e+00 0.000e+00 0.000e+00 4.000e+01\n",
            "  0.000e+00]\n",
            " [2.800e+01 4.000e+00 3.000e+00 1.000e+00 0.000e+00 2.179e+03 4.000e+01\n",
            "  0.000e+00]\n",
            " [4.400e+01 7.000e+00 3.000e+00 0.000e+00 0.000e+00 0.000e+00 4.600e+01\n",
            "  0.000e+00]\n",
            " [4.000e+01 1.300e+01 3.000e+00 0.000e+00 0.000e+00 0.000e+00 5.500e+01\n",
            "  1.000e+00]]\n",
            "[[39. 13.  4. ...  0. 40.  0.]\n",
            " [50. 13.  4. ...  0. 13.  0.]\n",
            " [38.  9.  4. ...  0. 40.  0.]\n",
            " ...\n",
            " [40. 10.  4. ...  0. 40.  0.]\n",
            " [39. 13.  4. ...  0. 50.  1.]\n",
            " [56. 12.  4. ...  0. 35.  0.]]\n"
          ],
          "name": "stdout"
        }
      ]
    },
    {
      "cell_type": "code",
      "metadata": {
        "id": "roFS0A7WXk4u",
        "outputId": "f1813c3e-181b-411e-81eb-c0d3a37186c9",
        "colab": {
          "base_uri": "https://localhost:8080/",
          "height": 102
        }
      },
      "source": [
        "len_0=len(race_0)\n",
        "len_1=len(race_1)\n",
        "len_2=len(race_2)\n",
        "len_3=len(race_3)\n",
        "len_4=len(race_4)\n",
        "print(\"race with value 0:\",len_0)\n",
        "print(\"race with value 1:\",len_1)\n",
        "print(\"race with value 2:\",len_2)\n",
        "print(\"race with value 3:\",len_3)\n",
        "print(\"race with value 4:\",len_4)"
      ],
      "execution_count": null,
      "outputs": [
        {
          "output_type": "stream",
          "text": [
            "race with value 0: 10\n",
            "race with value 1: 27\n",
            "race with value 2: 110\n",
            "race with value 3: 6\n",
            "race with value 4: 848\n"
          ],
          "name": "stdout"
        }
      ]
    },
    {
      "cell_type": "code",
      "metadata": {
        "id": "Ka7VIZ3eaT22",
        "outputId": "6906dc70-263b-4326-cb5d-4e7f1df904de",
        "colab": {
          "base_uri": "https://localhost:8080/",
          "height": 51
        }
      },
      "source": [
        "x=[len_0,len_1,len_2,len_3,len_4]\n",
        "y=min(x)\n",
        "z=x.index(y)\n",
        "print(\"minimum no of citizens\",y)\n",
        "minority_race=z\n",
        "print(\"minority_race:\",minority_race)\n",
        "#minority_race=x.index(min(x))\n"
      ],
      "execution_count": null,
      "outputs": [
        {
          "output_type": "stream",
          "text": [
            "minimum no of citizens 6\n",
            "minority_race: 3\n"
          ],
          "name": "stdout"
        }
      ]
    },
    {
      "cell_type": "markdown",
      "metadata": {
        "id": "0zeDnQvbg8hy"
      },
      "source": [
        "Step 4"
      ]
    },
    {
      "cell_type": "code",
      "metadata": {
        "id": "QrF1SweLg-Nr",
        "outputId": "e6bc2069-2df2-4d8b-b641-ad6e5bcadf33",
        "colab": {
          "base_uri": "https://localhost:8080/",
          "height": 1000
        }
      },
      "source": [
        "\n",
        "senior_citizens=census[census[:,0]>60]\n",
        "print(senior_citizens)\n"
      ],
      "execution_count": null,
      "outputs": [
        {
          "output_type": "stream",
          "text": [
            "[[7.9000e+01 1.0000e+01 4.0000e+00 1.0000e+00 0.0000e+00 0.0000e+00\n",
            "  2.0000e+01 0.0000e+00]\n",
            " [6.7000e+01 6.0000e+00 4.0000e+00 1.0000e+00 0.0000e+00 0.0000e+00\n",
            "  2.0000e+00 0.0000e+00]\n",
            " [7.6000e+01 1.4000e+01 4.0000e+00 1.0000e+00 0.0000e+00 0.0000e+00\n",
            "  4.0000e+01 1.0000e+00]\n",
            " [6.1000e+01 9.0000e+00 4.0000e+00 1.0000e+00 0.0000e+00 0.0000e+00\n",
            "  4.0000e+01 0.0000e+00]\n",
            " [7.0000e+01 1.0000e+01 4.0000e+00 1.0000e+00 0.0000e+00 0.0000e+00\n",
            "  4.0000e+01 0.0000e+00]\n",
            " [6.4000e+01 7.0000e+00 4.0000e+00 1.0000e+00 0.0000e+00 2.1790e+03\n",
            "  4.0000e+01 0.0000e+00]\n",
            " [7.1000e+01 1.0000e+01 2.0000e+00 1.0000e+00 0.0000e+00 1.8160e+03\n",
            "  2.0000e+00 0.0000e+00]\n",
            " [6.8000e+01 2.0000e+00 4.0000e+00 0.0000e+00 0.0000e+00 0.0000e+00\n",
            "  2.0000e+01 0.0000e+00]\n",
            " [6.6000e+01 1.1000e+01 4.0000e+00 0.0000e+00 0.0000e+00 0.0000e+00\n",
            "  2.0000e+01 0.0000e+00]\n",
            " [6.4000e+01 2.0000e+00 4.0000e+00 1.0000e+00 0.0000e+00 0.0000e+00\n",
            "  4.0000e+01 0.0000e+00]\n",
            " [9.0000e+01 9.0000e+00 2.0000e+00 1.0000e+00 0.0000e+00 2.2060e+03\n",
            "  4.0000e+01 0.0000e+00]\n",
            " [6.6000e+01 9.0000e+00 4.0000e+00 1.0000e+00 1.4090e+03 0.0000e+00\n",
            "  5.0000e+01 0.0000e+00]\n",
            " [7.5000e+01 1.1000e+01 4.0000e+00 0.0000e+00 0.0000e+00 0.0000e+00\n",
            "  2.0000e+01 0.0000e+00]\n",
            " [6.5000e+01 9.0000e+00 4.0000e+00 0.0000e+00 0.0000e+00 0.0000e+00\n",
            "  4.0000e+01 0.0000e+00]\n",
            " [6.4000e+01 9.0000e+00 4.0000e+00 1.0000e+00 0.0000e+00 0.0000e+00\n",
            "  4.0000e+01 1.0000e+00]\n",
            " [6.1000e+01 9.0000e+00 4.0000e+00 1.0000e+00 0.0000e+00 0.0000e+00\n",
            "  4.0000e+01 1.0000e+00]\n",
            " [6.5000e+01 9.0000e+00 4.0000e+00 1.0000e+00 0.0000e+00 0.0000e+00\n",
            "  1.6000e+01 0.0000e+00]\n",
            " [7.7000e+01 1.0000e+01 4.0000e+00 1.0000e+00 0.0000e+00 0.0000e+00\n",
            "  4.0000e+01 0.0000e+00]\n",
            " [6.2000e+01 9.0000e+00 4.0000e+00 0.0000e+00 0.0000e+00 0.0000e+00\n",
            "  2.4000e+01 0.0000e+00]\n",
            " [7.6000e+01 1.4000e+01 4.0000e+00 1.0000e+00 0.0000e+00 0.0000e+00\n",
            "  1.0000e+01 0.0000e+00]\n",
            " [6.3000e+01 9.0000e+00 4.0000e+00 1.0000e+00 0.0000e+00 0.0000e+00\n",
            "  4.5000e+01 0.0000e+00]\n",
            " [6.6000e+01 9.0000e+00 4.0000e+00 1.0000e+00 2.0500e+03 0.0000e+00\n",
            "  5.5000e+01 0.0000e+00]\n",
            " [6.7000e+01 7.0000e+00 4.0000e+00 1.0000e+00 0.0000e+00 0.0000e+00\n",
            "  8.0000e+00 0.0000e+00]\n",
            " [6.5000e+01 7.0000e+00 3.0000e+00 1.0000e+00 0.0000e+00 0.0000e+00\n",
            "  4.0000e+01 0.0000e+00]\n",
            " [6.2000e+01 1.4000e+01 4.0000e+00 1.0000e+00 0.0000e+00 0.0000e+00\n",
            "  4.0000e+01 1.0000e+00]\n",
            " [6.3000e+01 9.0000e+00 4.0000e+00 1.0000e+00 0.0000e+00 0.0000e+00\n",
            "  4.0000e+01 1.0000e+00]\n",
            " [8.0000e+01 9.0000e+00 4.0000e+00 1.0000e+00 0.0000e+00 0.0000e+00\n",
            "  2.4000e+01 0.0000e+00]\n",
            " [6.7000e+01 1.1000e+01 4.0000e+00 0.0000e+00 0.0000e+00 0.0000e+00\n",
            "  2.4000e+01 0.0000e+00]\n",
            " [6.3000e+01 2.0000e+00 4.0000e+00 1.0000e+00 0.0000e+00 0.0000e+00\n",
            "  3.5000e+01 0.0000e+00]\n",
            " [7.2000e+01 9.0000e+00 4.0000e+00 1.0000e+00 0.0000e+00 0.0000e+00\n",
            "  2.0000e+01 0.0000e+00]\n",
            " [6.2000e+01 9.0000e+00 4.0000e+00 1.0000e+00 0.0000e+00 0.0000e+00\n",
            "  4.0000e+01 0.0000e+00]\n",
            " [7.4000e+01 1.0000e+01 4.0000e+00 0.0000e+00 0.0000e+00 0.0000e+00\n",
            "  9.0000e+00 0.0000e+00]\n",
            " [6.7000e+01 1.5000e+01 4.0000e+00 1.0000e+00 2.0051e+04 0.0000e+00\n",
            "  4.8000e+01 1.0000e+00]\n",
            " [7.2000e+01 7.0000e+00 4.0000e+00 0.0000e+00 0.0000e+00 0.0000e+00\n",
            "  4.0000e+01 0.0000e+00]\n",
            " [6.9000e+01 7.0000e+00 4.0000e+00 0.0000e+00 0.0000e+00 0.0000e+00\n",
            "  4.0000e+01 0.0000e+00]\n",
            " [6.5000e+01 1.0000e+01 4.0000e+00 1.0000e+00 0.0000e+00 0.0000e+00\n",
            "  3.0000e+01 1.0000e+00]\n",
            " [6.5000e+01 5.0000e+00 2.0000e+00 0.0000e+00 0.0000e+00 0.0000e+00\n",
            "  2.4000e+01 0.0000e+00]\n",
            " [7.1000e+01 9.0000e+00 4.0000e+00 1.0000e+00 0.0000e+00 0.0000e+00\n",
            "  1.5000e+01 0.0000e+00]\n",
            " [7.0000e+01 5.0000e+00 4.0000e+00 0.0000e+00 1.1110e+03 0.0000e+00\n",
            "  1.5000e+01 0.0000e+00]\n",
            " [6.6000e+01 4.0000e+00 4.0000e+00 1.0000e+00 0.0000e+00 0.0000e+00\n",
            "  4.0000e+00 0.0000e+00]\n",
            " [6.5000e+01 7.0000e+00 4.0000e+00 1.0000e+00 9.3860e+03 0.0000e+00\n",
            "  5.9000e+01 1.0000e+00]\n",
            " [6.1000e+01 9.0000e+00 4.0000e+00 1.0000e+00 0.0000e+00 2.3520e+03\n",
            "  5.0000e+01 0.0000e+00]\n",
            " [6.1000e+01 9.0000e+00 4.0000e+00 1.0000e+00 0.0000e+00 0.0000e+00\n",
            "  4.0000e+01 0.0000e+00]\n",
            " [6.8000e+01 7.0000e+00 4.0000e+00 1.0000e+00 0.0000e+00 0.0000e+00\n",
            "  2.0000e+01 0.0000e+00]\n",
            " [6.4000e+01 1.3000e+01 4.0000e+00 1.0000e+00 0.0000e+00 0.0000e+00\n",
            "  4.0000e+01 1.0000e+00]\n",
            " [6.4000e+01 9.0000e+00 4.0000e+00 1.0000e+00 0.0000e+00 0.0000e+00\n",
            "  4.5000e+01 0.0000e+00]\n",
            " [6.2000e+01 9.0000e+00 4.0000e+00 0.0000e+00 0.0000e+00 0.0000e+00\n",
            "  4.0000e+01 0.0000e+00]\n",
            " [7.3000e+01 9.0000e+00 4.0000e+00 1.0000e+00 0.0000e+00 0.0000e+00\n",
            "  4.0000e+01 0.0000e+00]\n",
            " [7.2000e+01 7.0000e+00 4.0000e+00 0.0000e+00 0.0000e+00 0.0000e+00\n",
            "  2.4000e+01 0.0000e+00]\n",
            " [6.3000e+01 9.0000e+00 4.0000e+00 1.0000e+00 0.0000e+00 0.0000e+00\n",
            "  6.0000e+00 0.0000e+00]\n",
            " [6.2000e+01 1.3000e+01 4.0000e+00 0.0000e+00 0.0000e+00 0.0000e+00\n",
            "  4.8000e+01 0.0000e+00]\n",
            " [6.1000e+01 1.4000e+01 4.0000e+00 0.0000e+00 0.0000e+00 0.0000e+00\n",
            "  4.0000e+01 1.0000e+00]\n",
            " [7.1000e+01 1.4000e+01 4.0000e+00 1.0000e+00 1.0605e+04 0.0000e+00\n",
            "  4.0000e+01 1.0000e+00]\n",
            " [6.3000e+01 1.0000e+01 4.0000e+00 1.0000e+00 0.0000e+00 0.0000e+00\n",
            "  1.5000e+01 0.0000e+00]\n",
            " [6.3000e+01 4.0000e+00 4.0000e+00 1.0000e+00 0.0000e+00 0.0000e+00\n",
            "  5.5000e+01 0.0000e+00]\n",
            " [6.7000e+01 9.0000e+00 1.0000e+00 1.0000e+00 0.0000e+00 0.0000e+00\n",
            "  4.0000e+01 1.0000e+00]\n",
            " [8.1000e+01 9.0000e+00 4.0000e+00 1.0000e+00 0.0000e+00 0.0000e+00\n",
            "  3.0000e+01 0.0000e+00]\n",
            " [6.4000e+01 9.0000e+00 4.0000e+00 1.0000e+00 0.0000e+00 0.0000e+00\n",
            "  5.0000e+00 0.0000e+00]\n",
            " [6.7000e+01 1.3000e+01 4.0000e+00 1.0000e+00 0.0000e+00 2.3920e+03\n",
            "  4.0000e+01 1.0000e+00]\n",
            " [7.8000e+01 9.0000e+00 2.0000e+00 0.0000e+00 2.9640e+03 0.0000e+00\n",
            "  4.0000e+01 0.0000e+00]\n",
            " [6.3000e+01 1.1000e+01 4.0000e+00 0.0000e+00 0.0000e+00 0.0000e+00\n",
            "  2.0000e+01 0.0000e+00]]\n"
          ],
          "name": "stdout"
        }
      ]
    },
    {
      "cell_type": "code",
      "metadata": {
        "id": "aL0j1uXWkB40",
        "outputId": "0ff3da54-eeae-457e-c19f-351981c2eeea",
        "colab": {
          "base_uri": "https://localhost:8080/",
          "height": 34
        }
      },
      "source": [
        "\n",
        "\n",
        "working_hours_sum=senior_citizens.sum(axis=0)[6]\n",
        "print(working_hours_sum)\n"
      ],
      "execution_count": null,
      "outputs": [
        {
          "output_type": "stream",
          "text": [
            "1917.0\n"
          ],
          "name": "stdout"
        }
      ]
    },
    {
      "cell_type": "code",
      "metadata": {
        "id": "XySpmEgISS2V",
        "outputId": "f8a45b2f-6b5d-4f2f-9fcd-42d6b526eb86",
        "colab": {
          "base_uri": "https://localhost:8080/",
          "height": 34
        }
      },
      "source": [
        "senior_citizens_len=len(senior_citizens)\n",
        "print(senior_citizens_len)"
      ],
      "execution_count": null,
      "outputs": [
        {
          "output_type": "stream",
          "text": [
            "61\n"
          ],
          "name": "stdout"
        }
      ]
    },
    {
      "cell_type": "code",
      "metadata": {
        "id": "jgr-6n8MSf4b",
        "outputId": "6bfdb761-7e38-440b-a8e6-fe647fae8f95",
        "colab": {
          "base_uri": "https://localhost:8080/",
          "height": 34
        }
      },
      "source": [
        "avg_working_hours=float(working_hours_sum/senior_citizens_len)\n",
        "print(round(avg_working_hours,2))"
      ],
      "execution_count": null,
      "outputs": [
        {
          "output_type": "stream",
          "text": [
            "31.43\n"
          ],
          "name": "stdout"
        }
      ]
    },
    {
      "cell_type": "markdown",
      "metadata": {
        "id": "jJfq3I3VTlAX"
      },
      "source": [
        "Step 5"
      ]
    },
    {
      "cell_type": "code",
      "metadata": {
        "id": "tLBmStY1Iml2",
        "outputId": "cc9378ec-68cf-450d-af55-c9e6fc33b740",
        "colab": {
          "base_uri": "https://localhost:8080/",
          "height": 51
        }
      },
      "source": [
        "high=census[census[:,1]>10]\n",
        "low=census[census[:,1]<=10]\n",
        "avg_pay_high=high[:,7].mean()\n",
        "avg_pay_low=low[:,7].mean()\n",
        "print(avg_pay_high)\n",
        "print(avg_pay_low)"
      ],
      "execution_count": null,
      "outputs": [
        {
          "output_type": "stream",
          "text": [
            "0.4268292682926829\n",
            "0.13670133729569092\n"
          ],
          "name": "stdout"
        }
      ]
    }
  ]
}